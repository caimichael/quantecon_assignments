{
 "cells": [
  {
   "cell_type": "code",
   "execution_count": 3,
   "metadata": {
    "collapsed": true
   },
   "outputs": [],
   "source": [
    "def maxnum(alist):\n",
    "    alist.sort(reverse=True)\n",
    "    return alist[0]"
   ]
  },
  {
   "cell_type": "code",
   "execution_count": 6,
   "metadata": {
    "collapsed": false
   },
   "outputs": [],
   "source": [
    "def minnum(alist):\n",
    "    alist.sort()\n",
    "    return alist[0]"
   ]
  },
  {
   "cell_type": "code",
   "execution_count": 27,
   "metadata": {
    "collapsed": false
   },
   "outputs": [
    {
     "name": "stdout",
     "output_type": "stream",
     "text": [
      "This list contains a non-integer/float type\n"
     ]
    }
   ],
   "source": [
    "minnum([1,'a',2,3,4])"
   ]
  },
  {
   "cell_type": "code",
   "execution_count": 63,
   "metadata": {
    "collapsed": false
   },
   "outputs": [],
   "source": [
    "def minnum(alist):\n",
    "    newlist = [item for item in alist if type(item) == int]\n",
    "    newlist.sort()\n",
    "    return newlist[0]"
   ]
  },
  {
   "cell_type": "code",
   "execution_count": 64,
   "metadata": {
    "collapsed": false
   },
   "outputs": [
    {
     "data": {
      "text/plain": [
       "1"
      ]
     },
     "execution_count": 64,
     "metadata": {},
     "output_type": "execute_result"
    }
   ],
   "source": [
    "minnum([1,5,2,7,3,5,9])"
   ]
  },
  {
   "cell_type": "code",
   "execution_count": 65,
   "metadata": {
    "collapsed": false
   },
   "outputs": [
    {
     "data": {
      "text/plain": [
       "1"
      ]
     },
     "execution_count": 65,
     "metadata": {},
     "output_type": "execute_result"
    }
   ],
   "source": [
    "minnum([1,2,3,4,\"a\",2,5,\"hello\",4,7])"
   ]
  },
  {
   "cell_type": "code",
   "execution_count": 105,
   "metadata": {
    "collapsed": true
   },
   "outputs": [],
   "source": [
    "data = [3,6,1,3,6,8,9,2,2,2,1]"
   ]
  },
  {
   "cell_type": "code",
   "execution_count": 84,
   "metadata": {
    "collapsed": false
   },
   "outputs": [],
   "source": [
    "mean_vals = 0\n",
    "def mean(alist):   \n",
    "    mean_vals = sum(alist)/len(alist)\n",
    "    return mean_vals"
   ]
  },
  {
   "cell_type": "code",
   "execution_count": 83,
   "metadata": {
    "collapsed": false
   },
   "outputs": [
    {
     "data": {
      "text/plain": [
       "3.909090909090909"
      ]
     },
     "execution_count": 83,
     "metadata": {},
     "output_type": "execute_result"
    }
   ],
   "source": [
    "mean(data)"
   ]
  },
  {
   "cell_type": "code",
   "execution_count": 147,
   "metadata": {
    "collapsed": false
   },
   "outputs": [],
   "source": [
    "a = 0\n",
    "b = 0\n",
    "\n",
    "def median(alist):\n",
    "    alist.sort()\n",
    "    if len(alist) % 2 == 0:\n",
    "        a = len(alist)/2 \n",
    "        b = len(alist)/2 - 1\n",
    "        c = .5*(test[int(a)]+test[int(b)])\n",
    "        return c\n",
    "    else:\n",
    "        a = len(alist)//2\n",
    "        return alist[a]"
   ]
  },
  {
   "cell_type": "code",
   "execution_count": 148,
   "metadata": {
    "collapsed": false
   },
   "outputs": [
    {
     "data": {
      "text/plain": [
       "3"
      ]
     },
     "execution_count": 148,
     "metadata": {},
     "output_type": "execute_result"
    }
   ],
   "source": [
    "median(data)"
   ]
  },
  {
   "cell_type": "code",
   "execution_count": 149,
   "metadata": {
    "collapsed": true
   },
   "outputs": [],
   "source": [
    "def rangefunc(alist):\n",
    "    alist.sort()\n",
    "    return alist[len(alist)-1]-alist[0]"
   ]
  },
  {
   "cell_type": "code",
   "execution_count": 150,
   "metadata": {
    "collapsed": false
   },
   "outputs": [
    {
     "data": {
      "text/plain": [
       "8"
      ]
     },
     "execution_count": 150,
     "metadata": {},
     "output_type": "execute_result"
    }
   ],
   "source": [
    "rangefunc(data)"
   ]
  },
  {
   "cell_type": "code",
   "execution_count": 175,
   "metadata": {
    "collapsed": false
   },
   "outputs": [],
   "source": [
    "def var(alist):\n",
    "    print((1/len(alist)) * (sum([(item - mean(alist))**2 for item in alist])))"
   ]
  },
  {
   "cell_type": "code",
   "execution_count": 177,
   "metadata": {
    "collapsed": false
   },
   "outputs": [
    {
     "name": "stdout",
     "output_type": "stream",
     "text": [
      "7.355371900826446\n"
     ]
    }
   ],
   "source": [
    "var(data)"
   ]
  },
  {
   "cell_type": "code",
   "execution_count": 338,
   "metadata": {
    "collapsed": false
   },
   "outputs": [],
   "source": [
    "def fib_iter(n):\n",
    "    fprev1 = 0\n",
    "    fprev2 = 1\n",
    "    fnext1 = 0\n",
    "    fiblist = []\n",
    "    if n == 0:\n",
    "        fiblist.append(fprev1)\n",
    "    if n >= 1:\n",
    "        fiblist.append(fprev2)\n",
    "    if n >= 2:\n",
    "        for value in range(n-2):\n",
    "            fnext1 = fprev1 + fprev2\n",
    "            fiblist.append(fnext1)\n",
    "            fprev1 = fprev2\n",
    "            fprev2 = fnext1\n",
    "    return fiblist[n-1]"
   ]
  },
  {
   "cell_type": "code",
   "execution_count": 341,
   "metadata": {
    "collapsed": false
   },
   "outputs": [
    {
     "data": {
      "text/plain": [
       "1"
      ]
     },
     "execution_count": 341,
     "metadata": {},
     "output_type": "execute_result"
    }
   ],
   "source": [
    "fib_iter(1)"
   ]
  },
  {
   "cell_type": "code",
   "execution_count": 245,
   "metadata": {
    "collapsed": true
   },
   "outputs": [],
   "source": [
    "def fib_recur(n):\n",
    "    if n == 0 or n == 1:\n",
    "        return 1\n",
    "    else:\n",
    "        return fib(n-1) + fib(n-2)"
   ]
  },
  {
   "cell_type": "code",
   "execution_count": 248,
   "metadata": {
    "collapsed": false
   },
   "outputs": [
    {
     "data": {
      "text/plain": [
       "55"
      ]
     },
     "execution_count": 248,
     "metadata": {},
     "output_type": "execute_result"
    }
   ],
   "source": [
    "fib_recur(10)"
   ]
  },
  {
   "cell_type": "code",
   "execution_count": 266,
   "metadata": {
    "collapsed": false
   },
   "outputs": [],
   "source": [
    "#we are choosing an r, and we want to find the x from the given r\n",
    "#given the relation x**2 = r\n",
    "\n",
    "#for r, guess a value of x1\n",
    "#if x1**2 < r\n",
    "#guess a bigger value\n",
    "#if x1**2 > r\n",
    "#guess a smaller value\n",
    "#if r-.0001 < x1**2 < r+.0001"
   ]
  },
  {
   "cell_type": "code",
   "execution_count": 304,
   "metadata": {
    "collapsed": false
   },
   "outputs": [],
   "source": [
    "def newtroot(r):\n",
    "    x0 = 0.0001\n",
    "    xval = x0\n",
    "    fx = xval**2 - r\n",
    "    if -0.0001 < fx < 0.0001:\n",
    "        return fx\n",
    "    x1 = x0 - (x0**2-r)/(2*x0)\n",
    "    for xval in range(1,5,0.0001): \n",
    "        #fx = xval**2 - r\n",
    "        xn = \n",
    "        #1 - (1**2 - 3)/(2*1)\n",
    "        print(xn)\n",
    "        #if -0.0001 < fx < 0.0001:\n",
    "        #    return fx"
   ]
  },
  {
   "cell_type": "code",
   "execution_count": 305,
   "metadata": {
    "collapsed": false
   },
   "outputs": [
    {
     "name": "stdout",
     "output_type": "stream",
     "text": [
      "xval\n",
      "1\n",
      "xval-xn\n",
      "0\n",
      "xn\n",
      "2.0\n",
      "xval\n",
      "2\n",
      "xval-xn\n",
      "0.0\n",
      "xn\n",
      "1.75\n",
      "xval\n",
      "3\n",
      "xval-xn\n",
      "1.25\n",
      "xn\n",
      "2.0\n",
      "xval\n",
      "4\n",
      "xval-xn\n",
      "2.0\n",
      "xn\n",
      "2.375\n"
     ]
    }
   ],
   "source": [
    "newtroot(3)"
   ]
  },
  {
   "cell_type": "code",
   "execution_count": null,
   "metadata": {
    "collapsed": true
   },
   "outputs": [],
   "source": []
  }
 ],
 "metadata": {
  "kernelspec": {
   "display_name": "Python 3",
   "language": "python",
   "name": "python3"
  },
  "language_info": {
   "codemirror_mode": {
    "name": "ipython",
    "version": 3
   },
   "file_extension": ".py",
   "mimetype": "text/x-python",
   "name": "python",
   "nbconvert_exporter": "python",
   "pygments_lexer": "ipython3",
   "version": "3.5.1"
  }
 },
 "nbformat": 4,
 "nbformat_minor": 0
}
