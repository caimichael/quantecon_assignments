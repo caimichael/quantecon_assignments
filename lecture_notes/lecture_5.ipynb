{
 "cells": [
  {
   "cell_type": "markdown",
   "metadata": {},
   "source": [
    "###Syntax for Line Continuation:"
   ]
  },
  {
   "cell_type": "code",
   "execution_count": 6,
   "metadata": {
    "collapsed": false
   },
   "outputs": [
    {
     "name": "stdout",
     "output_type": "stream",
     "text": [
      "45\n"
     ]
    }
   ],
   "source": [
    "a = 1+2+3+4+5+ \\\n",
    "    6+7+8+9\n",
    "print(a)"
   ]
  },
  {
   "cell_type": "markdown",
   "metadata": {},
   "source": [
    "###String Formatting:"
   ]
  },
  {
   "cell_type": "code",
   "execution_count": 17,
   "metadata": {
    "collapsed": false
   },
   "outputs": [
    {
     "name": "stdout",
     "output_type": "stream",
     "text": [
      "Hello Matt! Nice to meet you.\n",
      "\n",
      "Hello Matt! Nice to meet you. \n",
      "Today is Tuesday\n"
     ]
    }
   ],
   "source": [
    "name = \"Matt\"\n",
    "day = \"Tuesday\"\n",
    "print(\"Hello %s! Nice to meet you.\\n\"%name)\n",
    "print(\"Hello %s! Nice to meet you. \\nToday is %s\"%(name,day))"
   ]
  },
  {
   "cell_type": "markdown",
   "metadata": {},
   "source": [
    "%s = format as a string"
   ]
  },
  {
   "cell_type": "markdown",
   "metadata": {},
   "source": [
    "%d = format as a decimal (base-10 integer)"
   ]
  },
  {
   "cell_type": "markdown",
   "metadata": {},
   "source": [
    "%f = format as a floating point value"
   ]
  },
  {
   "cell_type": "markdown",
   "metadata": {},
   "source": [
    "To truncate floating point values at a certain decimal point type %.2f, for instance for just 2 decimals"
   ]
  },
  {
   "cell_type": "markdown",
   "metadata": {},
   "source": [
    "###Advanced String Formatting"
   ]
  },
  {
   "cell_type": "code",
   "execution_count": 24,
   "metadata": {
    "collapsed": false
   },
   "outputs": [
    {
     "name": "stdout",
     "output_type": "stream",
     "text": [
      "\n",
      "Greetings...\n",
      "Hello Matt! Your age is 103\n",
      "\n",
      "Greetings...\n",
      "Hello Ben! Your age is 79\n"
     ]
    }
   ],
   "source": [
    "#Example Dictionary Subs\n",
    "reply = \"\"\"\n",
    "Greetings...\n",
    "Hello %(name)s! Your age is %(age)d\"\"\"\n",
    "values1 = {'name':'Matt', 'age':103}\n",
    "values2 = {'name':'Ben', 'age':79}\n",
    "print(reply%values1)\n",
    "print(reply%values2)"
   ]
  },
  {
   "cell_type": "markdown",
   "metadata": {},
   "source": [
    "###Mutability"
   ]
  },
  {
   "cell_type": "code",
   "execution_count": 26,
   "metadata": {
    "collapsed": false
   },
   "outputs": [
    {
     "name": "stdout",
     "output_type": "stream",
     "text": [
      "A: [1, 2, 3, 4, 5]; B: [1, 2, 3, 4, 5]\n"
     ]
    }
   ],
   "source": [
    "#Mutable objects can change state\n",
    "a = [1,2,3,4]\n",
    "b = a\n",
    "a.append(5)\n",
    "print(\"A: %s; B: %s\"%(a,b))\n",
    "\n",
    "#this is the case because the exact same object in memory is being looked at. a is still the same object\n",
    "#and thus b is now pointing to the a with 5 appended"
   ]
  },
  {
   "cell_type": "markdown",
   "metadata": {},
   "source": [
    "###Try and Except"
   ]
  },
  {
   "cell_type": "code",
   "execution_count": 30,
   "metadata": {
    "collapsed": false
   },
   "outputs": [
    {
     "name": "stdout",
     "output_type": "stream",
     "text": [
      "Please provide an integer so that I can say Hello: merp\n",
      "Hello Hello \n"
     ]
    }
   ],
   "source": [
    "val = input(\"Please provide an integer so that I can say Hello: \")\n",
    "try: \n",
    "    val = int(val)\n",
    "except:\n",
    "    val = 2\n",
    "print(\"Hello \"*val)"
   ]
  },
  {
   "cell_type": "markdown",
   "metadata": {},
   "source": [
    "###Collatz Conjecture"
   ]
  },
  {
   "cell_type": "markdown",
   "metadata": {},
   "source": [
    "https://en.wikipedia.org/wiki/Collatz_conjecture"
   ]
  },
  {
   "cell_type": "markdown",
   "metadata": {},
   "source": [
    "The conjecture can be summarized as follows. Take any natural number n. If n is even, divide it by 2 to get n / 2. If n is odd, multiply it by 3 and add 1 to obtain 3n + 1. Repeat the process (which has been called \"Half Or Triple Plus One\", or HOTPO[7]) indefinitely. The conjecture is that no matter what number you start with, you will always eventually reach 1. The property has also been called oneness."
   ]
  },
  {
   "cell_type": "code",
   "execution_count": 44,
   "metadata": {
    "collapsed": false,
    "scrolled": true
   },
   "outputs": [
    {
     "name": "stdout",
     "output_type": "stream",
     "text": [
      "7\n",
      "22\n",
      "11.0\n",
      "34.0\n",
      "17.0\n",
      "52.0\n",
      "26.0\n",
      "13.0\n",
      "40.0\n",
      "20.0\n",
      "10.0\n",
      "5.0\n",
      "16.0\n",
      "8.0\n",
      "4.0\n",
      "2.0\n",
      "n now equals 1\n"
     ]
    }
   ],
   "source": [
    "def collatz(n):\n",
    "    while n!=1:\n",
    "        print(n)\n",
    "        if n%2 == 0:\n",
    "            n = n/2\n",
    "        else:\n",
    "            n = n*3+1\n",
    "    print(\"n now equals %d\"%n)\n",
    "\n",
    "collatz(7)"
   ]
  },
  {
   "cell_type": "markdown",
   "metadata": {},
   "source": [
    "###Enumerate"
   ]
  },
  {
   "cell_type": "code",
   "execution_count": 45,
   "metadata": {
    "collapsed": false
   },
   "outputs": [
    {
     "name": "stdout",
     "output_type": "stream",
     "text": [
      "i is located at index value: 2\n",
      "i is located at index value: 5\n",
      "i is located at index value: 13\n"
     ]
    }
   ],
   "source": [
    "for i,char in enumerate(\"This is a string!\"):\n",
    "    if char == 'i':\n",
    "        print(\"i is located at index value: %s\"%i)"
   ]
  },
  {
   "cell_type": "markdown",
   "metadata": {},
   "source": [
    "enumerate() keeps track of an index along with the object at that index when iterating over an iterable"
   ]
  },
  {
   "cell_type": "markdown",
   "metadata": {},
   "source": [
    "###Looping over functions and printing those functions"
   ]
  },
  {
   "cell_type": "code",
   "execution_count": 46,
   "metadata": {
    "collapsed": false
   },
   "outputs": [
    {
     "name": "stdout",
     "output_type": "stream",
     "text": [
      "max([1, 2, 3]) = 3\n",
      "min([1, 2, 3]) = 1\n",
      "sum([1, 2, 3]) = 6\n"
     ]
    }
   ],
   "source": [
    "x = [1,2,3]\n",
    "for f in [max, min, sum]:   #You can even loop over functions!\n",
    "    print(\"%s(%s) = %s\"%(f.__name__,x,f(x)))"
   ]
  },
  {
   "cell_type": "markdown",
   "metadata": {},
   "source": [
    "###List Comprehensions"
   ]
  },
  {
   "cell_type": "code",
   "execution_count": 49,
   "metadata": {
    "collapsed": false
   },
   "outputs": [
    {
     "data": {
      "text/plain": [
       "[2, 5, 13]"
      ]
     },
     "execution_count": 49,
     "metadata": {},
     "output_type": "execute_result"
    }
   ],
   "source": [
    "[i for i,char in enumerate(\"This is a string!\") if char ==\"i\"]\n",
    "#basically return i that satisfies the condition on the for-loop"
   ]
  },
  {
   "cell_type": "code",
   "execution_count": null,
   "metadata": {
    "collapsed": true
   },
   "outputs": [],
   "source": []
  }
 ],
 "metadata": {
  "kernelspec": {
   "display_name": "Python 3",
   "language": "python",
   "name": "python3"
  },
  "language_info": {
   "codemirror_mode": {
    "name": "ipython",
    "version": 3
   },
   "file_extension": ".py",
   "mimetype": "text/x-python",
   "name": "python",
   "nbconvert_exporter": "python",
   "pygments_lexer": "ipython3",
   "version": "3.5.1"
  }
 },
 "nbformat": 4,
 "nbformat_minor": 0
}
