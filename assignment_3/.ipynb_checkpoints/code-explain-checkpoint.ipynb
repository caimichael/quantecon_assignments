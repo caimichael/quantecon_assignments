{
 "cells": [
  {
   "cell_type": "code",
   "execution_count": 1,
   "metadata": {
    "collapsed": false
   },
   "outputs": [
    {
     "data": {
      "image/png": "[encoded data removed]",
      "text/plain": [
       "<matplotlib.figure.Figure at 0x104250940>"
      ]
     },
     "metadata": {},
     "output_type": "display_data"
    }
   ],
   "source": [
    "%matplotlib inline\n",
    "import numpy as np \n",
    "import matplotlib.pyplot as plt\n",
    " \n",
    "# N: number of periods for the transition\n",
    "\n",
    "# std: st.d of innovation\n",
    "\n",
    "N = 10\n",
    "std = 1.0\n",
    "phi_1 = 0.8\n",
    "phi_2 = 0\n",
    "theta = 0\n",
    "\n",
    "A = np.array(([phi_1,phi_2,theta],[1,0,0],[0,0,0]))    \n",
    " \n",
    "C = np.array([1,0,1]) \n",
    " \n",
    "G = np.array([1,0,0]) \n",
    "    \n",
    "# == set up the simulation == #\n",
    "\n",
    "Simul_shock = np.zeros(N)\n",
    "Simul_shock[0]=std\n",
    "\n",
    "#Simul_shock = np.random.normal(0, std, N)\n",
    "Simul_x = np.zeros((N+1,3))\n",
    "Simul_x[0,:]=np.array([0,0,0])\n",
    "Simul_y = np.zeros(N)\n",
    "\n",
    "for i in range(0,N):    \n",
    "    Simul_x[i+1,:] = np.dot(A, Simul_x[i,:])+np.dot(C, Simul_shock[i]) \n",
    "    Simul_y[i] = np.dot(G, Simul_x[i,:])  \n",
    "        \n",
    "# Plot the simulation\n",
    " \n",
    "fig, ax = plt.subplots(figsize=(10, 5))\n",
    "ax.set_xlim(0, N) \n",
    "ax.plot(Simul_y, 'bo--',  alpha=0.8) \n",
    "plt.show()    "
   ]
  },
  {
   "cell_type": "code",
   "execution_count": 3,
   "metadata": {
    "collapsed": false
   },
   "outputs": [
    {
     "data": {
      "text/plain": [
       "array([[ 0.        ,  0.        ,  0.        ],\n",
       "       [ 1.        ,  0.        ,  1.        ],\n",
       "       [ 0.8       ,  1.        ,  0.        ],\n",
       "       [ 0.64      ,  0.8       ,  0.        ],\n",
       "       [ 0.512     ,  0.64      ,  0.        ],\n",
       "       [ 0.4096    ,  0.512     ,  0.        ],\n",
       "       [ 0.32768   ,  0.4096    ,  0.        ],\n",
       "       [ 0.262144  ,  0.32768   ,  0.        ],\n",
       "       [ 0.2097152 ,  0.262144  ,  0.        ],\n",
       "       [ 0.16777216,  0.2097152 ,  0.        ],\n",
       "       [ 0.13421773,  0.16777216,  0.        ]])"
      ]
     },
     "execution_count": 3,
     "metadata": {},
     "output_type": "execute_result"
    }
   ],
   "source": [
    "Simul_x"
   ]
  },
  {
   "cell_type": "code",
   "execution_count": 4,
   "metadata": {
    "collapsed": false
   },
   "outputs": [
    {
     "data": {
      "text/plain": [
       "array([ 0.        ,  1.        ,  0.8       ,  0.64      ,  0.512     ,\n",
       "        0.4096    ,  0.32768   ,  0.262144  ,  0.2097152 ,  0.16777216])"
      ]
     },
     "execution_count": 4,
     "metadata": {},
     "output_type": "execute_result"
    }
   ],
   "source": [
    "Simul_y"
   ]
  },
  {
   "cell_type": "code",
   "execution_count": 5,
   "metadata": {
    "collapsed": false
   },
   "outputs": [
    {
     "data": {
      "text/plain": [
       "array([ 1.,  0.,  0.,  0.,  0.,  0.,  0.,  0.,  0.,  0.])"
      ]
     },
     "execution_count": 5,
     "metadata": {},
     "output_type": "execute_result"
    }
   ],
   "source": [
    "Simul_shock"
   ]
  },
  {
   "cell_type": "code",
   "execution_count": null,
   "metadata": {
    "collapsed": true
   },
   "outputs": [],
   "source": [
    "#Simul_x is a matrix of N+1 x 3, where 3 is the number of elements in the state vector. \n",
    "#Thus for an ARMA(2,1) process, there are 3 state variables to keep track of in the state vector.\n",
    "#xt = [y_t, y_t-1, w_t]\n",
    "#So each row of the Simul_x matrix corresponds with each state vector for each time period\n",
    "#Simul_x = [x_0,\n",
    "#           x_1,\n",
    "#           x_2,\n",
    "#           ...,\n",
    "#           x_N]\n",
    "\n",
    "#Simul_y is a vector of length N containing [y_0, y_1, ... , y_N-1]\n",
    "\n",
    "#Simul_shock is the \"shock\" vector, w_t\n",
    "#The reason why Simul_shock[0]=std is because the Simul_shock vector is of length N, and thus is indexed\n",
    "#beginning at time t=1. Thus the 0th index of Simul_shock actually corresponds to the time t=1."
   ]
  }
 ],
 "metadata": {
  "kernelspec": {
   "display_name": "Python 3",
   "language": "python",
   "name": "python3"
  },
  "language_info": {
   "codemirror_mode": {
    "name": "ipython",
    "version": 3
   },
   "file_extension": ".py",
   "mimetype": "text/x-python",
   "name": "python",
   "nbconvert_exporter": "python",
   "pygments_lexer": "ipython3",
   "version": "3.5.1"
  }
 },
 "nbformat": 4,
 "nbformat_minor": 0
}
