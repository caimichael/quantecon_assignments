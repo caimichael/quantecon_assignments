{
 "cells": [
  {
   "cell_type": "markdown",
   "metadata": {},
   "source": [
    "##Question 1##"
   ]
  },
  {
   "cell_type": "code",
   "execution_count": 177,
   "metadata": {
    "collapsed": true
   },
   "outputs": [],
   "source": [
    "#(a)\n",
    "def maxnum(alist):\n",
    "    alist.sort(reverse=True) \n",
    "    #This just uses the built-in sort function, but in reverse\n",
    "    return alist[0] \n",
    "    #I pick the integer at the 0th index because with reverse sort\n",
    "    #that would be the largest integer in the list"
   ]
  },
  {
   "cell_type": "code",
   "execution_count": 176,
   "metadata": {
    "collapsed": false
   },
   "outputs": [],
   "source": [
    "def minnum(alist):\n",
    "    alist.sort() \n",
    "    #using the built-in sort function (smallest to largest)\n",
    "    return alist[0]\n",
    "    #integer at the 0th index is the smallest"
   ]
  },
  {
   "cell_type": "code",
   "execution_count": 179,
   "metadata": {
    "collapsed": false
   },
   "outputs": [
    {
     "ename": "TypeError",
     "evalue": "unorderable types: str() < int()",
     "output_type": "error",
     "traceback": [
      "\u001b[0;31m---------------------------------------------------------------------------\u001b[0m",
      "\u001b[0;31mTypeError\u001b[0m                                 Traceback (most recent call last)",
      "\u001b[0;32m<ipython-input-179-fc697e956fc0>\u001b[0m in \u001b[0;36m<module>\u001b[0;34m()\u001b[0m\n\u001b[1;32m      1\u001b[0m \u001b[0;31m#(b)\u001b[0m\u001b[0;34m\u001b[0m\u001b[0;34m\u001b[0m\u001b[0m\n\u001b[0;32m----> 2\u001b[0;31m \u001b[0mminnum\u001b[0m\u001b[0;34m(\u001b[0m\u001b[0;34m[\u001b[0m\u001b[0;36m1\u001b[0m\u001b[0;34m,\u001b[0m\u001b[0;34m'a'\u001b[0m\u001b[0;34m,\u001b[0m\u001b[0;36m2\u001b[0m\u001b[0;34m,\u001b[0m\u001b[0;36m3\u001b[0m\u001b[0;34m,\u001b[0m\u001b[0;36m4\u001b[0m\u001b[0;34m]\u001b[0m\u001b[0;34m)\u001b[0m \u001b[0;31m#No it does not work over other data types\u001b[0m\u001b[0;34m\u001b[0m\u001b[0m\n\u001b[0m",
      "\u001b[0;32m<ipython-input-176-5964e0cf7a75>\u001b[0m in \u001b[0;36mminnum\u001b[0;34m(alist)\u001b[0m\n\u001b[1;32m      1\u001b[0m \u001b[0;32mdef\u001b[0m \u001b[0mminnum\u001b[0m\u001b[0;34m(\u001b[0m\u001b[0malist\u001b[0m\u001b[0;34m)\u001b[0m\u001b[0;34m:\u001b[0m\u001b[0;34m\u001b[0m\u001b[0m\n\u001b[0;32m----> 2\u001b[0;31m     \u001b[0malist\u001b[0m\u001b[0;34m.\u001b[0m\u001b[0msort\u001b[0m\u001b[0;34m(\u001b[0m\u001b[0;34m)\u001b[0m\u001b[0;34m\u001b[0m\u001b[0m\n\u001b[0m\u001b[1;32m      3\u001b[0m     \u001b[0;31m#using the built-in sort function (smallest to largest)\u001b[0m\u001b[0;34m\u001b[0m\u001b[0;34m\u001b[0m\u001b[0m\n\u001b[1;32m      4\u001b[0m     \u001b[0;32mreturn\u001b[0m \u001b[0malist\u001b[0m\u001b[0;34m[\u001b[0m\u001b[0;36m0\u001b[0m\u001b[0;34m]\u001b[0m\u001b[0;34m\u001b[0m\u001b[0m\n\u001b[1;32m      5\u001b[0m     \u001b[0;31m#integer at the 0th index is the smallest\u001b[0m\u001b[0;34m\u001b[0m\u001b[0;34m\u001b[0m\u001b[0m\n",
      "\u001b[0;31mTypeError\u001b[0m: unorderable types: str() < int()"
     ]
    }
   ],
   "source": [
    "#(b)\n",
    "minnum([1,'a',2,3,4]) #No it does not work over other data types"
   ]
  },
  {
   "cell_type": "code",
   "execution_count": 183,
   "metadata": {
    "collapsed": false
   },
   "outputs": [],
   "source": [
    "#(c)\n",
    "#I made the function more robust by employing a \n",
    "#list comprehension to consume the input list\n",
    "#and recreate a new list that only contains integers\n",
    "def maxnum(alist):\n",
    "    newlist = [item for item in alist if type(item) == int]\n",
    "    newlist.sort(reverse = True)\n",
    "    return newlist[0]\n",
    "\n",
    "def minnum(alist):\n",
    "    newlist = [item for item in alist if type(item) == int]\n",
    "    newlist.sort()\n",
    "    return newlist[0]"
   ]
  },
  {
   "cell_type": "code",
   "execution_count": 184,
   "metadata": {
    "collapsed": false
   },
   "outputs": [
    {
     "data": {
      "text/plain": [
       "1"
      ]
     },
     "execution_count": 184,
     "metadata": {},
     "output_type": "execute_result"
    }
   ],
   "source": [
    "minnum([1,5,2,7,3,5,9])"
   ]
  },
  {
   "cell_type": "code",
   "execution_count": 185,
   "metadata": {
    "collapsed": false
   },
   "outputs": [
    {
     "data": {
      "text/plain": [
       "1"
      ]
     },
     "execution_count": 185,
     "metadata": {},
     "output_type": "execute_result"
    }
   ],
   "source": [
    "minnum([1,2,3,4,\"a\",2,5,\"hello\",4,7])"
   ]
  },
  {
   "cell_type": "code",
   "execution_count": 186,
   "metadata": {
    "collapsed": false
   },
   "outputs": [
    {
     "data": {
      "text/plain": [
       "7"
      ]
     },
     "execution_count": 186,
     "metadata": {},
     "output_type": "execute_result"
    }
   ],
   "source": [
    "maxnum([1,2,3,4,\"a\",2,5,\"hello\",4,7])"
   ]
  },
  {
   "cell_type": "markdown",
   "metadata": {},
   "source": [
    "##Question 2##"
   ]
  },
  {
   "cell_type": "code",
   "execution_count": 189,
   "metadata": {
    "collapsed": true
   },
   "outputs": [],
   "source": [
    "data = [3,6,1,3,6,8,9,2,2,2,1]"
   ]
  },
  {
   "cell_type": "code",
   "execution_count": 190,
   "metadata": {
    "collapsed": false
   },
   "outputs": [],
   "source": [
    "mean_vals = 0\n",
    "def mean(alist):   \n",
    "    mean_vals = sum(alist)/len(alist)\n",
    "    return mean_vals"
   ]
  },
  {
   "cell_type": "code",
   "execution_count": 191,
   "metadata": {
    "collapsed": false
   },
   "outputs": [
    {
     "data": {
      "text/plain": [
       "3.909090909090909"
      ]
     },
     "execution_count": 191,
     "metadata": {},
     "output_type": "execute_result"
    }
   ],
   "source": [
    "mean(data)"
   ]
  },
  {
   "cell_type": "code",
   "execution_count": 192,
   "metadata": {
    "collapsed": false
   },
   "outputs": [],
   "source": [
    "a = 0\n",
    "b = 0\n",
    "\n",
    "def median(alist):\n",
    "    alist.sort()\n",
    "    if len(alist) % 2 == 0:\n",
    "        a = len(alist)/2 \n",
    "        b = len(alist)/2 - 1\n",
    "        c = .5*(test[int(a)]+test[int(b)])\n",
    "        return c\n",
    "    else:\n",
    "        a = len(alist)//2\n",
    "        return alist[a]"
   ]
  },
  {
   "cell_type": "code",
   "execution_count": 193,
   "metadata": {
    "collapsed": false
   },
   "outputs": [
    {
     "data": {
      "text/plain": [
       "3"
      ]
     },
     "execution_count": 193,
     "metadata": {},
     "output_type": "execute_result"
    }
   ],
   "source": [
    "median(data)"
   ]
  },
  {
   "cell_type": "code",
   "execution_count": 194,
   "metadata": {
    "collapsed": true
   },
   "outputs": [],
   "source": [
    "def rangefunc(alist):\n",
    "    alist.sort()\n",
    "    return alist[len(alist)-1]-alist[0]"
   ]
  },
  {
   "cell_type": "code",
   "execution_count": 195,
   "metadata": {
    "collapsed": false
   },
   "outputs": [
    {
     "data": {
      "text/plain": [
       "8"
      ]
     },
     "execution_count": 195,
     "metadata": {},
     "output_type": "execute_result"
    }
   ],
   "source": [
    "rangefunc(data)"
   ]
  },
  {
   "cell_type": "code",
   "execution_count": 196,
   "metadata": {
    "collapsed": false
   },
   "outputs": [],
   "source": [
    "def var(alist):\n",
    "    print((1/len(alist)) * (sum([(item - mean(alist))**2 \n",
    "                                 for item in alist])))"
   ]
  },
  {
   "cell_type": "code",
   "execution_count": 197,
   "metadata": {
    "collapsed": false,
    "scrolled": true
   },
   "outputs": [
    {
     "name": "stdout",
     "output_type": "stream",
     "text": [
      "7.355371900826446\n"
     ]
    }
   ],
   "source": [
    "var(data)"
   ]
  },
  {
   "cell_type": "markdown",
   "metadata": {},
   "source": [
    "##Question 3##"
   ]
  },
  {
   "cell_type": "markdown",
   "metadata": {},
   "source": [
    "(a) <br>\n",
    "$F_n = F_{n-1} + F_{n-2}$ for n < 2, and where $F_1 = 1$ and $F_2 = 2$"
   ]
  },
  {
   "cell_type": "code",
   "execution_count": 198,
   "metadata": {
    "collapsed": false
   },
   "outputs": [],
   "source": [
    "#I assume that the 0th Fibonacci number is 0, since we generally\n",
    "#begin at the 1st Fibonacci number. Thus F1 and F2 = 1. \n",
    "#We iterate through range(n-1) because the nth Fibonacci number\n",
    "#must have n-1 loops through (because I started at 0,1 to account for\n",
    "#the 0th Fibonacci number).\n",
    "#i.e. fib_iter(3) must calculate two numbers, the 2nd and 3rd\n",
    "#Fibonacci numbers (since the 1st number is given).\n",
    "\n",
    "#(b)\n",
    "def fib_iter(n, show_sequence = False):\n",
    "    fprev1 = 1\n",
    "    fprev2 = 1\n",
    "    fnext1 = 0\n",
    "    fiblist = []\n",
    "    if n >= 1:\n",
    "        fiblist.append(fprev1)\n",
    "    if n >= 2:\n",
    "        fiblist.append(fprev2)\n",
    "    if n > 2:\n",
    "        for value in range(n-2):\n",
    "            fnext1 = fprev1 + fprev2\n",
    "            fiblist.append(fnext1)\n",
    "            fprev1 = fprev2\n",
    "            fprev2 = fnext1\n",
    "    if show_sequence == True:\n",
    "        return fiblist\n",
    "    else:\n",
    "        return fiblist[n-1]"
   ]
  },
  {
   "cell_type": "code",
   "execution_count": 124,
   "metadata": {
    "collapsed": false
   },
   "outputs": [
    {
     "data": {
      "text/plain": [
       "2"
      ]
     },
     "execution_count": 124,
     "metadata": {},
     "output_type": "execute_result"
    }
   ],
   "source": [
    "fib_iter(3)"
   ]
  },
  {
   "cell_type": "code",
   "execution_count": 127,
   "metadata": {
    "collapsed": false
   },
   "outputs": [
    {
     "data": {
      "text/plain": [
       "[1, 1, 2, 3, 5]"
      ]
     },
     "execution_count": 127,
     "metadata": {},
     "output_type": "execute_result"
    }
   ],
   "source": [
    "fib_iter(5, show_sequence = True)"
   ]
  },
  {
   "cell_type": "code",
   "execution_count": 280,
   "metadata": {
    "collapsed": false
   },
   "outputs": [],
   "source": [
    "#(c)\n",
    "def fib_recur(n, show_sequence = False):\n",
    "    if show_sequence == False:\n",
    "        if n == 1:\n",
    "            return 1\n",
    "        elif n == 2:\n",
    "            return 1\n",
    "        else:\n",
    "            return fib(n-1) + fib(n-2)\n",
    "    else:\n",
    "        if n <= 1:\n",
    "            return [1]\n",
    "        elif n <= 2:\n",
    "            return [1,1]\n",
    "        else:\n",
    "            a = fib(n-1, show_sequence = True)\n",
    "            b = fib(n-2, show_sequence = True)\n",
    "            return a + [a[-1] + b[-1]]"
   ]
  },
  {
   "cell_type": "code",
   "execution_count": 281,
   "metadata": {
    "collapsed": false
   },
   "outputs": [
    {
     "data": {
      "text/plain": [
       "[1, 1, 2, 3, 5, 8, 13]"
      ]
     },
     "execution_count": 281,
     "metadata": {},
     "output_type": "execute_result"
    }
   ],
   "source": [
    "fib_recur(7, show_sequence = True)"
   ]
  },
  {
   "cell_type": "code",
   "execution_count": 282,
   "metadata": {
    "collapsed": false
   },
   "outputs": [
    {
     "data": {
      "text/plain": [
       "5"
      ]
     },
     "execution_count": 282,
     "metadata": {},
     "output_type": "execute_result"
    }
   ],
   "source": [
    "fib_recur(5)"
   ]
  },
  {
   "cell_type": "markdown",
   "metadata": {},
   "source": [
    "##Question 4##"
   ]
  },
  {
   "cell_type": "markdown",
   "metadata": {},
   "source": [
    "(a) <br>\n",
    "If $f(x) := x^2 - r$ is our function <br>\n",
    "then $f'(x) = 2x$ is the derivative of the function. <br>\n",
    "Therefore, the Newton's method approximation is: <br>\n",
    "$x_0 =$ a random guess. <br>\n",
    "$x_1 = x_0 - \\frac{f(x_0)}{f'(x_0)}$<br>\n",
    "$x_{n+1} = x_n - \\frac{f(x_n)}{f'(x_n)} = x_n - \\frac{x_n^2 - r}{2x_n}$ for $n \\geq 2$ <br><br>\n",
    "As $\\lim_{n\\to\\infty}, x_n^2 - r \\rightarrow 0$ <br>\n",
    "Thus $(x_{n+1})^2 - r$ as $\\lim_{n\\to\\infty} = x_n^2 - r = 0$ and $x_n$ is the root of $r$."
   ]
  },
  {
   "cell_type": "code",
   "execution_count": 269,
   "metadata": {
    "collapsed": false
   },
   "outputs": [],
   "source": [
    "#(b)\n",
    "import numpy as np\n",
    "\n",
    "def square_root(r):\n",
    "    x0 = 0.1\n",
    "    x = x0\n",
    "    for item in np.arange(100):\n",
    "        fx = x**2 - r\n",
    "        dfx = 2*x\n",
    "        if -0.1 < fx < 0.1:\n",
    "            return x\n",
    "        else:\n",
    "            x = x - fx/dfx"
   ]
  },
  {
   "cell_type": "code",
   "execution_count": 271,
   "metadata": {
    "collapsed": false
   },
   "outputs": [
    {
     "data": {
      "text/plain": [
       "1.1937187973877976"
      ]
     },
     "execution_count": 271,
     "metadata": {},
     "output_type": "execute_result"
    }
   ],
   "source": [
    "square_root(1.4)"
   ]
  },
  {
   "cell_type": "code",
   "execution_count": null,
   "metadata": {
    "collapsed": true
   },
   "outputs": [],
   "source": []
  }
 ],
 "metadata": {
  "kernelspec": {
   "display_name": "Python 3",
   "language": "python",
   "name": "python3"
  },
  "language_info": {
   "codemirror_mode": {
    "name": "ipython",
    "version": 3
   },
   "file_extension": ".py",
   "mimetype": "text/x-python",
   "name": "python",
   "nbconvert_exporter": "python",
   "pygments_lexer": "ipython3",
   "version": "3.5.1"
  }
 },
 "nbformat": 4,
 "nbformat_minor": 0
}
