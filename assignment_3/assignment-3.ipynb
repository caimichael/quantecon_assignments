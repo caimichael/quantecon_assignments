{
 "cells": [
  {
   "cell_type": "markdown",
   "metadata": {},
   "source": [
    "Assignment \\#3: Linear State Space Models\n",
    "=========================================\n",
    "\n",
    "Please answer all three questions below within a Jupyter notebook.\n",
    "\n",
    "**Due: 03rd March, 2016**\n",
    "\n",
    "Submission of the assignment is due before 9:30am to econ370nyu@gmail.com. \n",
    "\n",
    "Please use the following standard for the subject email title ``assignment#3-<lastname>-<id>``.\n"
   ]
  },
  {
   "cell_type": "markdown",
   "metadata": {},
   "source": [
    "# Question 1\n",
    "\n",
    "Consider the following ARMA(2,1) process\n",
    "\n",
    "$$ y_t=\\phi_1 y_{t-1}+\\phi_2 y_{t-2} + w_t+\\theta w_{t-1}$$\n",
    "\n",
    "(1) Write down the linear state space system to represent the equations above\n",
    "\n",
    "(2) Assume that $\\phi_1=-1.8$, $\\phi_2=0.81$, $\\theta=0.5$, and $w_t\\sim \\mathcal N(0,1)$. Plot the impulse reponse graph for this system. (Hint: assume $w_t=0$ for $t\\leq 0$, and assume $w_t=1$ for $t=1$.)\n",
    "\n",
    "(3) Simulate the economy for 1000 periods, and plot the simulated path for $y_t$. You can choose the starting value of $y_t$ as you like.\n",
    "\n",
    "(4) Change the parameters to be the following: $\\phi_1=-2.0$, $\\phi_2=0.75$, $\\theta=0.0$, and $w_t\\sim \\mathcal N(0,1)$.  Plot the impulse reponse graph for this system. Is this a mean-reverting process?"
   ]
  },
  {
   "cell_type": "markdown",
   "metadata": {
    "collapsed": true
   },
   "source": [
    "(1) "
   ]
  },
  {
   "cell_type": "code",
   "execution_count": 1,
   "metadata": {
    "collapsed": false
   },
   "outputs": [
    {
     "data": {
      "image/png": "[encoded data removed]",
      "text/plain": [
       "<matplotlib.figure.Figure at 0x1042578d0>"
      ]
     },
     "metadata": {},
     "output_type": "display_data"
    }
   ],
   "source": [
    "#(2) Simulated path for y_t, N=1000\n",
    "%matplotlib inline\n",
    "import numpy as np \n",
    "import matplotlib.pyplot as plt\n",
    " \n",
    "# N: number of periods for the transition\n",
    "\n",
    "# std: st.d of innovation\n",
    "\n",
    "N = 50\n",
    "std = 1.0\n",
    "phi_1 = -1.8\n",
    "phi_2 = 0.81\n",
    "theta = 0.5\n",
    "\n",
    "A = np.array(([phi_1,phi_2,theta],[1,0,0],[0,0,0]))    \n",
    " \n",
    "C = np.array([1,0,1]) \n",
    " \n",
    "G = np.array([1,0,0]) \n",
    "    \n",
    "# == set up the simulation == #\n",
    "\n",
    "Simul_shock = np.zeros(N)\n",
    "Simul_shock[0]=std\n",
    "\n",
    "#Simul_shock = np.random.normal(0, std, N)\n",
    "Simul_x = np.zeros((N+1,3))\n",
    "Simul_x[0,:]=np.array([0,0,0]) #choosing the [*,0,0] element sets the y_t for the ARMA?\n",
    "Simul_y = np.zeros(N)\n",
    "\n",
    "for i in range(0,N):    \n",
    "    Simul_x[i+1,:] = np.dot(A, Simul_x[i,:])+np.dot(C, Simul_shock[i]) \n",
    "    #Simul_x each row represents the state vector for that time. row 0 = x_0, row 1 = x_1 ...\n",
    "    Simul_y[i] = np.dot(G, Simul_x[i,:]) \n",
    "    #Simul_y represents the choice vector [y_0, y_1, ... , y_N]  \n",
    "        \n",
    "# Plot the simulation\n",
    " \n",
    "fig, ax = plt.subplots(figsize=(10, 5))\n",
    "ax.set_xlim(0, N) \n",
    "ax.plot(Simul_y, 'bo--',  alpha=0.8) \n",
    "plt.show()    "
   ]
  },
  {
   "cell_type": "code",
   "execution_count": 127,
   "metadata": {
    "collapsed": false
   },
   "outputs": [
    {
     "data": {
      "image/png": "[encoded data removed]",
      "text/plain": [
       "<matplotlib.figure.Figure at 0x10d7e3b38>"
      ]
     },
     "metadata": {},
     "output_type": "display_data"
    }
   ],
   "source": [
    "#(3) Simulated path for y_t, N=1000\n",
    "%matplotlib inline\n",
    "import numpy as np \n",
    "import matplotlib.pyplot as plt\n",
    " \n",
    "# N: number of periods for the transition\n",
    "\n",
    "# std: st.d of innovation\n",
    "\n",
    "N = 900 #Won't let me make it 1000?\n",
    "std = 1.0\n",
    "phi_1 = -1.8\n",
    "phi_2 = 0.81\n",
    "theta = 0.5\n",
    "\n",
    "A = np.array(([phi_1,phi_2,theta],[1,0,0],[0,0,0]))    \n",
    " \n",
    "C = np.array([1,0,1]) \n",
    " \n",
    "G = np.array([1,0,0]) \n",
    "    \n",
    "# == set up the simulation == #\n",
    "\n",
    "Simul_shock = np.zeros(N)\n",
    "Simul_shock[0]=std\n",
    "\n",
    "#Simul_shock = np.random.normal(0, std, N)\n",
    "Simul_x = np.zeros((N+1,3))\n",
    "Simul_x[0,:]=np.array([0,0,0])\n",
    "Simul_y = np.zeros(N)\n",
    "\n",
    "for i in range(0,N):    \n",
    "    Simul_x[i+1,:] = np.dot(A, Simul_x[i,:])+np.dot(C, Simul_shock[i]) \n",
    "    Simul_y[i] = np.dot(G, Simul_x[i,:])  \n",
    "        \n",
    "# Plot the simulation\n",
    " \n",
    "fig, ax = plt.subplots(figsize=(10, 5))\n",
    "ax.set_xlim(0, N) \n",
    "ax.plot(Simul_y, 'bo--',  alpha=0.8) \n",
    "plt.show()    "
   ]
  },
  {
   "cell_type": "code",
   "execution_count": 130,
   "metadata": {
    "collapsed": false
   },
   "outputs": [
    {
     "data": {
      "image/png": "[encoded data removed]",
      "text/plain": [
       "<matplotlib.figure.Figure at 0x10d77d208>"
      ]
     },
     "metadata": {},
     "output_type": "display_data"
    }
   ],
   "source": [
    "#(4)\n",
    "%matplotlib inline\n",
    "import numpy as np \n",
    "import matplotlib.pyplot as plt\n",
    " \n",
    "# N: number of periods for the transition\n",
    "\n",
    "# std: st.d of innovation\n",
    "\n",
    "N = 20\n",
    "std = 1.0\n",
    "phi_1 = -2.0\n",
    "phi_2 = 0.75\n",
    "theta = 0.5\n",
    "\n",
    "A = np.array(([phi_1,phi_2,theta],[1,0,0],[0,0,0]))    \n",
    " \n",
    "C = np.array([1,0,1]) \n",
    " \n",
    "G = np.array([1,0,0]) \n",
    "    \n",
    "# == set up the simulation == #\n",
    "\n",
    "Simul_shock = np.zeros(N)\n",
    "Simul_shock[0]=std\n",
    "\n",
    "#Simul_shock = np.random.normal(0, std, N)\n",
    "Simul_x = np.zeros((N+1,3))\n",
    "Simul_x[0,:]=np.array([0,0,0]) \n",
    "Simul_y = np.zeros(N)\n",
    "\n",
    "for i in range(0,N):#This is the correct code, but I don't understand why it works.     \n",
    "    Simul_x[i+1,:] = np.dot(A, Simul_x[i,:])+np.dot(C, Simul_shock[i]) \n",
    "    Simul_y[i] = np.dot(G, Simul_x[i,:]) \n",
    "          \n",
    "# Plot the simulation\n",
    " \n",
    "fig, ax = plt.subplots(figsize=(10, 5))\n",
    "ax.set_xlim(0, N) \n",
    "ax.plot(Simul_y, 'bo--',  alpha=0.8) \n",
    "plt.show()    "
   ]
  },
  {
   "cell_type": "markdown",
   "metadata": {},
   "source": [
    "Answer: **No this is not a mean reverting process** because the absolute value of $\\phi_1$ is still $>1$"
   ]
  },
  {
   "cell_type": "markdown",
   "metadata": {},
   "source": [
    "# Question 2\n",
    "\n",
    "Consider the following AR(2) process \n",
    "\n",
    "$$ y_t=\\phi_1 y_{t-1}+\\phi_2 y_{t-2} + w_t$$\n",
    "\n",
    "(1) Write down the linear state space system to represent the equations above\n",
    "\n",
    "(2) State the condition on $\\phi_1$ and $\\phi_2$ for co-variance stationary. \n",
    "\n",
    "(3) Assume $\\phi_1=-1.6$, $\\phi_2=0.64$. Start from $y_{-1}=0$ and $y_{-2}=0$, simulate the system for $N=200$ periods and repeat it for $S=500$ times. Plot the sample distribution of $y_t$ at $t=10$, $t=100$ and $t=150$. \n",
    "\n",
    "(4) Use the same parameter as in part (3). Plot the stationary distribution of $y_t$.\n",
    " "
   ]
  },
  {
   "cell_type": "markdown",
   "metadata": {
    "collapsed": true
   },
   "source": [
    "(1) "
   ]
  },
  {
   "cell_type": "code",
   "execution_count": null,
   "metadata": {
    "collapsed": true
   },
   "outputs": [],
   "source": []
  },
  {
   "cell_type": "markdown",
   "metadata": {},
   "source": [
    "# Question 3\n",
    "\n",
    "\n",
    "\n",
    "Consider the Solow growth model discussed in the class:\n",
    "\n",
    "Production function: \n",
    "\n",
    "$$y_t= \\exp(z_t) k_t^\\alpha$$\n",
    "\n",
    "Technology: \n",
    "    \n",
    "$$z_t =\\rho z_{t-1}+w_t$$    \n",
    "\n",
    "Saving rate: $$s$$\n",
    "\n",
    "Consumption: \n",
    "\n",
    "$$c_t=(1-s)y_t=(1-s)\\exp(z_t) k_t^\\alpha$$\n",
    "\n",
    "Law of motion for capital: \n",
    "\n",
    "$$k_{t+1}=(1-\\delta)k_t+s y_t=(1-\\delta)k_t+s \\exp(z_t) k_t^\\alpha$$\n",
    "\n",
    "(1) Log-linearize the  model around the steady state. Write down the log-linearized version of the production function and the law of motion of capital. \n",
    "\n",
    "(2) Use the lag opperator, express the log-deviation of output and capital as ARMA processes of the shock $w_t$.\n",
    "\n",
    "(3) Use the following parameter: $\\alpha=0.36$, $\\rho=0.95$, $s=0.4$, $\\delta=0.1$, and assume $w_t\\sim \\mathcal N(0,1)$. Simulate the log-deviation of output and capital for 200 periods. Plot the simulated paths of capital and output on the same graph."
   ]
  },
  {
   "cell_type": "markdown",
   "metadata": {
    "collapsed": true
   },
   "source": [
    "(1) \n",
    "\n",
    "**Output:**\n",
    "\n",
    "$y_t = e^{z_t}k_t^\\alpha$\n",
    "\n",
    "Suppose $y_t$ and $k_t$ changes around their steady states $y$ and $k$\n",
    "\n",
    "$\\hat{y_t} = log(\\frac{y_t}{y})$ \n",
    "\n",
    "$y_t = ye^{\\hat{y_t}}$ and $k_t$ follows the same form.\n",
    "\n",
    "Then $ye^{\\hat{y_t}} = e^{z_t}(ke^{{\\hat{k_t}})^{\\alpha}}$\n",
    "\n",
    "In the steady-state $z_t = 0$, thus $e^{z_t} = 1$\n",
    "\n",
    "$\\therefore y = k^\\alpha$\n",
    "\n",
    "Thus dividing both sides by $y/k^\\alpha$ equivalently, we get:\n",
    "\n",
    "$= e^{\\hat{y_t}} = e^{z_t}(e^{\\hat{k_t}})^\\alpha$\n",
    "\n",
    "And taking logs we get:\n",
    "\n",
    "$\\hat{y_t} = z_t + \\alpha \\hat{k_t}$\n",
    "\n",
    "**Capital:**\n",
    "\n",
    "$k_{t+1} = (1-\\delta)k_t + se^{z_t} k_t^\\alpha$\n",
    "\n",
    "$k_t$ and $k_{t+1}$ changes around its steady state k.\n",
    "\n",
    "Therefore:\n",
    "\n",
    "$ke^{\\widehat{k_{t+1}}} = (1-\\delta)ke^{\\hat{k_t}} + se^{z_t} (ke^{\\hat{k_t}})^\\alpha$\n",
    "\n",
    "Dividing by $k$ we get:\n",
    "\n",
    "$e^{\\widehat{k_{t+1}}} = (1-\\delta)e^{\\hat{k_t}} + \\frac{sk^\\alpha}{k}e^{z_t}(e^{\\hat{k_t}})^\\alpha$\n",
    "\n",
    "Recall: $k_{t+1} = (1-\\delta)k_t + sy_t$\n",
    "\n",
    "In the steady-state: \n",
    "\n",
    "$k = (1-\\delta)k + sy$\n",
    "\n",
    "$k - (1-\\delta)k = sy$\n",
    "\n",
    "$\\delta k = sy$\n",
    "\n",
    "Because $y = k^\\alpha$\n",
    "\n",
    "$\\delta k = sk^\\alpha$\n",
    "\n",
    "$\\delta = \\frac{sk^\\alpha}{k}$\n",
    "\n",
    "Thus replacing $\\frac{sk^\\alpha}{k}$ in our last equation with $\\delta$ we get:\n",
    "\n",
    "$e^{\\widehat{k_{t+1}}} = (1-\\delta)e^{\\hat{k_t}} + \\delta e^{z_t}(e^{\\hat{k_t}})^\\alpha$\n",
    "\n",
    "Recall from the Taylor Series expansion of $e^x$\n",
    "\n",
    "$e^x = 1 + x + \\frac{1}{2}x^2 + ...$\n",
    "\n",
    "$ \\approx 1+x$\n",
    "\n",
    "Thus $e^{\\widehat{k_{t+1}}} \\approx 1+\\widehat{k_{t+1}} = (1-\\delta)(1+\\hat{k_t}) + \\delta (1+z_t+\\alpha \\hat{k_t})$\n",
    "\n",
    "$=(1-\\delta) + (1-\\delta)\\hat{k_t} + \\delta + delta(z_t + \\alpha \\hat{k_t})$\n",
    "\n",
    "$\\widehat{k_{t+1}} = (1-\\delta)\\hat{k_t} + \\delta z_t + \\alpha \\delta \\hat{k_t}$\n",
    "\n",
    "$\\widehat{k_{t+1}} = \\delta z_t + (1-\\delta+\\alpha \\delta)\\hat{k_t}$\n",
    "\n"
   ]
  },
  {
   "cell_type": "markdown",
   "metadata": {},
   "source": [
    "(2) \n",
    "\n"
   ]
  },
  {
   "cell_type": "markdown",
   "metadata": {},
   "source": [
    "# Question 4\n",
    "\n",
    "\n",
    "\n",
    "(1) Consider the following AR(1) process for the state variable $x_t$\n",
    "\n",
    "$$ x_{t+1}=\\rho x_{t}+ w_{t+1}$$\n",
    " \n",
    "where $\\rho\\in(0,1)$ and $w_t\\sim \\mathcal N(0,1)$. \n",
    "\n",
    "Write down the conditional forecast formula for $x_{t+j}$  conditional on observing $x_t$, i.e., what is $\\mathbb E [x_{t+j}| x_t]$? (This is an analytical question.)\n",
    "\n",
    " \n",
    "\n",
    "(2) Write down the forecast formula of the geometric forecast sum of $x_t$, i.e., what is $\\sum_{j=0}^\\infty \\beta^j \\mathbb E  [x_{t+j}| x_t]$? (This is an analytical question.)\n",
    "\n",
    "(3) Now assume the system is the following ARMA(2,1) process\n",
    "\n",
    "$$ y_t=\\phi_1 y_{t-1}+\\phi_2 y_{t-2} + w_t+\\theta w_{t-1}$$\n",
    "\n",
    "Write down the linear state space system for this process. Assume that $\\phi_1=-1.8$, $\\phi_2=0.81$, $\\theta=0.5$, and $w_t\\sim \\mathcal N(0,1)$. Given $x_t$=1, plot $\\mathbb E [x_{t+j}| x_t]$ for $j=0$ to $j=100$.  \n"
   ]
  },
  {
   "cell_type": "code",
   "execution_count": null,
   "metadata": {
    "collapsed": true
   },
   "outputs": [],
   "source": []
  },
  {
   "cell_type": "markdown",
   "metadata": {},
   "source": [
    " "
   ]
  }
 ],
 "metadata": {
  "kernelspec": {
   "display_name": "Python 3",
   "language": "python",
   "name": "python3"
  },
  "language_info": {
   "codemirror_mode": {
    "name": "ipython",
    "version": 3
   },
   "file_extension": ".py",
   "mimetype": "text/x-python",
   "name": "python",
   "nbconvert_exporter": "python",
   "pygments_lexer": "ipython3",
   "version": "3.5.1"
  }
 },
 "nbformat": 4,
 "nbformat_minor": 0
}
